{
 "cells": [
  {
   "cell_type": "markdown",
   "metadata": {},
   "source": [
    "## Let’s write our first accelerated program:\n",
    "\n",
    "summing two n-dimensional vectors a and b. It’s straightforward in *NumPy*, where we can do it by c = a + b."
   ]
  },
  {
   "cell_type": "code",
   "execution_count": null,
   "metadata": {},
   "outputs": [],
   "source": [
    "import numpy as np\n",
    "\n",
    "import inaccel.coral as inaccel"
   ]
  },
  {
   "cell_type": "markdown",
   "metadata": {},
   "source": [
    "### Allocate three vectors & Initialize input vectors with random values"
   ]
  },
  {
   "cell_type": "code",
   "execution_count": null,
   "metadata": {},
   "outputs": [],
   "source": [
    "size = np.int32(1024 * 1024)\n",
    "\n",
    "with inaccel.allocator:\n",
    "    a = np.random.rand(size).astype(np.float32)\n",
    "    b = np.random.rand(size).astype(np.float32)\n",
    "\n",
    "    c = np.ndarray(size, dtype = np.float32)"
   ]
  },
  {
   "cell_type": "markdown",
   "metadata": {},
   "source": [
    "### Submit a new request for *vector addition* to InAccel Coral\n",
    "\n",
    "arguments must comply with the accelerator's specific argument list"
   ]
  },
  {
   "cell_type": "code",
   "execution_count": null,
   "metadata": {},
   "outputs": [],
   "source": [
    "vadd = inaccel.request(\"com.inaccel.math.vector.addition\")\n",
    "vadd.arg(a).arg(b).arg(c).arg(size)\n",
    "\n",
    "inaccel.submit(vadd).result()"
   ]
  },
  {
   "cell_type": "markdown",
   "metadata": {},
   "source": [
    "### Check the results"
   ]
  },
  {
   "cell_type": "code",
   "execution_count": null,
   "metadata": {},
   "outputs": [],
   "source": [
    "np.array_equal(c, a + b)"
   ]
  }
 ],
 "metadata": {
  "kernelspec": {
   "display_name": "Python 3",
   "language": "python",
   "name": "python3"
  },
  "language_info": {
   "codemirror_mode": {
    "name": "ipython",
    "version": 3
   },
   "file_extension": ".py",
   "mimetype": "text/x-python",
   "name": "python",
   "nbconvert_exporter": "python",
   "pygments_lexer": "ipython3",
   "version": "3.7.3"
  }
 },
 "nbformat": 4,
 "nbformat_minor": 4
}
